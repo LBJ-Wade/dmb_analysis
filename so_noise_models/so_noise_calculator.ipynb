{
 "cells": [
  {
   "cell_type": "code",
   "execution_count": 2,
   "metadata": {},
   "outputs": [],
   "source": [
    "import so_models_v3"
   ]
  },
  {
   "cell_type": "code",
   "execution_count": 3,
   "metadata": {},
   "outputs": [
    {
     "name": "stdout",
     "output_type": "stream",
     "text": [
      "LAT\\_V3.1\n",
      "band centers:  [ 27.  39.  93. 145. 225. 280.] [GHz]\n",
      "beam sizes:  [7.4 5.1 2.2 1.4 1.  0.9] [arcmin]\n",
      "white noise levels:  [52.0853286  26.78674042  5.80379376  6.25023943 14.88152246 37.20380614] [uK-arcmin]\n"
     ]
    }
   ],
   "source": [
    "from so_models_v3 import SO_Noise_Calculator_Public_v3_1_1 as so_models\n",
    "\n",
    "import matplotlib\n",
    "matplotlib.use('pdf')\n",
    "matplotlib.rc('font', family='serif', serif='cm10')\n",
    "matplotlib.rc('text', usetex=True)\n",
    "fontProperties = {'family':'sans-serif',\n",
    "                  'weight' : 'normal', 'size' : 16}\n",
    "import matplotlib.pyplot as plt\n",
    "\n",
    "####################################################################\n",
    "####################################################################\n",
    "##                   demonstration of the code\n",
    "####################################################################\n",
    "\n",
    "mode=2\n",
    "suffix='pdf'\n",
    "fsky=0.4\n",
    "ellmax=1e4\n",
    "el=50.\n",
    "\n",
    "dset_label = 'LAT\\\\_V3.1'\n",
    "lat = so_models.SOLatV3point1(mode, el=el)\n",
    "corr_pairs = [(0,1),(2,3),(4,5)]\n",
    "\n",
    "ylims = (5e-7,1e0)\n",
    "colors=['b','r','g','m','k','y']\n",
    "corr_colors = ['orange', 'fuchsia', 'springgreen']\n",
    "\n",
    "print(dset_label)\n",
    "bands = lat.get_bands()\n",
    "print(\"band centers: \", lat.get_bands(), \"[GHz]\")\n",
    "print(\"beam sizes: \"  , lat.get_beams(), \"[arcmin]\")\n",
    "N_bands = len(bands)\n",
    "\n",
    "ell, N_ell_LA_T_full,N_ell_LA_P_full = lat.get_noise_curves(\n",
    "    fsky, ellmax, 1, full_covar=True, deconv_beam=True)\n",
    "\n",
    "WN_levels = lat.get_white_noise(fsky)**.5\n",
    "\n",
    "N_ell_LA_T  = N_ell_LA_T_full[range(N_bands),range(N_bands)]\n",
    "N_ell_LA_Tx = [N_ell_LA_T_full[i,j] for i,j in corr_pairs]\n",
    "N_ell_LA_P  = N_ell_LA_P_full[range(N_bands),range(N_bands)]\n",
    "N_ell_LA_Px = [N_ell_LA_P_full[i,j] for i,j in corr_pairs]\n",
    "\n",
    "print(\"white noise levels: \"  , WN_levels, \"[uK-arcmin]\")\n",
    "\n",
    "target = str(lat.__class__.__name__).split('.')[-1]\n",
    "\n",
    "## plot the temperature noise curves\n",
    "plt.figure()\n",
    "for i in range(N_bands):\n",
    "    plt.loglog(ell,N_ell_LA_T[i], label='%i GHz (%s)' % (bands[i], dset_label),\n",
    "               color=colors[i], ls='-', lw=2.)\n",
    "\n",
    "# include correlated atmospheric noise across frequencies\n",
    "for _c,(i,j) in enumerate(corr_pairs):\n",
    "    plt.loglog(ell, N_ell_LA_T_full[i,j],\n",
    "               label=r'$%i \\times %i$ GHz atm.' % (bands[i],bands[j]),\n",
    "               color=corr_colors[_c], lw=1.5)\n",
    "\n",
    "plt.title(r\"$N(\\ell$) Temperature\", fontsize=18)\n",
    "plt.ylabel(r\"$N(\\ell$) [$\\mu$K${}^2$]\", fontsize=16)\n",
    "plt.xlabel(r\"$\\ell$\", fontsize=16)\n",
    "plt.ylim(*ylims)\n",
    "plt.xlim(100,10000)\n",
    "plt.legend(loc='lower left', ncol=2, fontsize=8)\n",
    "plt.grid()\n",
    "plt.savefig('%s_mode%i_fsky%.2f_LAT_T.%s' % (target, mode, fsky, suffix))\n",
    "\n",
    "## plot the polarization noise curves\n",
    "plt.figure()\n",
    "for i in range(N_bands):\n",
    "    plt.loglog(ell,N_ell_LA_P[i], label='%i GHz (%s)' % (bands[i], dset_label),\n",
    "               color=colors[i], ls='-', lw=2.)\n",
    "\n",
    "# include correlated atmospheric noise across frequencies\n",
    "for _c,(i,j) in enumerate(corr_pairs):\n",
    "    plt.loglog(ell, N_ell_LA_P_full[i,j],\n",
    "               label=r'$%i \\times %i$ GHz atm.' % (bands[i],bands[j]),\n",
    "               color=corr_colors[_c], lw=1.5)\n",
    "\n",
    "plt.title(r\"$N(\\ell$) Polarization\", fontsize=18)\n",
    "plt.ylabel(r\"$N(\\ell$) [$\\mu$K${}^2$]\", fontsize=16)\n",
    "plt.xlabel(r\"$\\ell$\", fontsize=16)\n",
    "plt.ylim(*ylims)\n",
    "plt.xlim(100,10000)\n",
    "plt.legend(loc='upper left', ncol=2, fontsize=9)\n",
    "plt.grid()\n",
    "\n",
    "plt.savefig('%s_mode%i_fsky%.2f_LAT_P.%s' % (target, mode, fsky, suffix))\n",
    "####################################################################\n",
    "####################################################################\n",
    "\n"
   ]
  },
  {
   "cell_type": "code",
   "execution_count": 8,
   "metadata": {},
   "outputs": [
    {
     "name": "stdout",
     "output_type": "stream",
     "text": [
      "SOLatV3point1_mode2_fsky0.40_LAT_P.pdf\n"
     ]
    }
   ],
   "source": [
    "print('%s_mode%i_fsky%.2f_LAT_P.%s' % (target, mode, fsky, suffix))"
   ]
  },
  {
   "cell_type": "code",
   "execution_count": 10,
   "metadata": {},
   "outputs": [
    {
     "name": "stdout",
     "output_type": "stream",
     "text": [
      "LAT\\_V3.1\n"
     ]
    },
    {
     "data": {
      "text/plain": [
       "array([ 27.,  39.,  93., 145., 225., 280.])"
      ]
     },
     "execution_count": 10,
     "metadata": {},
     "output_type": "execute_result"
    }
   ],
   "source": []
  },
  {
   "cell_type": "code",
   "execution_count": null,
   "metadata": {},
   "outputs": [],
   "source": []
  }
 ],
 "metadata": {
  "kernelspec": {
   "display_name": "Python 3",
   "language": "python",
   "name": "python3"
  },
  "language_info": {
   "codemirror_mode": {
    "name": "ipython",
    "version": 3
   },
   "file_extension": ".py",
   "mimetype": "text/x-python",
   "name": "python",
   "nbconvert_exporter": "python",
   "pygments_lexer": "ipython3",
   "version": "3.8.3"
  }
 },
 "nbformat": 4,
 "nbformat_minor": 4
}
